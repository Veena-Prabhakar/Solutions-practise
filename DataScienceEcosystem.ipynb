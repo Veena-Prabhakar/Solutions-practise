{
 "cells": [
  {
   "cell_type": "markdown",
   "id": "4961a636-a3a9-4d80-b78a-6f0e1937ad97",
   "metadata": {},
   "source": [
    "# h1 Data Science Tools and Ecosystem"
   ]
  },
  {
   "cell_type": "markdown",
   "id": "a9df47e1-f6c9-4fe4-ac60-5b9f10f23dd3",
   "metadata": {},
   "source": [
    "In this notebook, Data Science Tools and Ecosystem are summarized."
   ]
  },
  {
   "cell_type": "markdown",
   "id": "d62b0336-bc01-4334-aac7-9b63f6c6d7f0",
   "metadata": {
    "tags": []
   },
   "source": [
    "Some of the popular languages that Data Scientists use are:\n",
    "1. Python\n",
    "2. R\n",
    "3. SQL"
   ]
  },
  {
   "cell_type": "markdown",
   "id": "eb42f9c0-d631-4c51-9db7-29f32376ce89",
   "metadata": {},
   "source": [
    "Some of the commonly used libraries used by Data Scientists include: \n",
    "1. Numpy \n",
    "2. Scipy \n",
    "3. Math"
   ]
  },
  {
   "cell_type": "markdown",
   "id": "ac4c144c-5846-4915-bc59-74cbe34512bc",
   "metadata": {},
   "source": [
    "|Data Science Tools|\n",
    "--------------------\n",
    "|Jupyter|\n",
    "|RStudio|\n",
    "|GitHub|"
   ]
  },
  {
   "cell_type": "markdown",
   "id": "9e302b2c-7fda-45d8-8faa-80a230d5db83",
   "metadata": {},
   "source": [
    "# h3 Below are a few examples of evaluating arithmetic expressions in Python"
   ]
  },
  {
   "cell_type": "code",
   "execution_count": 2,
   "id": "ef1862b0-f760-48cc-992e-24d1e3cdca32",
   "metadata": {
    "tags": []
   },
   "outputs": [
    {
     "data": {
      "text/plain": [
       "17"
      ]
     },
     "execution_count": 2,
     "metadata": {},
     "output_type": "execute_result"
    }
   ],
   "source": [
    "#This a simple arithmetic expression to mutiply then add integers\n",
    "(3*4)+5"
   ]
  },
  {
   "cell_type": "code",
   "execution_count": 3,
   "id": "84d37871-e0d5-403a-9644-31ba6b19dcf6",
   "metadata": {
    "tags": []
   },
   "outputs": [
    {
     "name": "stdout",
     "output_type": "stream",
     "text": [
      "Hours :  3.3333333333333335\n"
     ]
    }
   ],
   "source": [
    "#This will convert 200 minutes to hours by diving by 60\n",
    "min=200\n",
    "hours=min/60\n",
    "print(\"Hours : \",hours)"
   ]
  },
  {
   "cell_type": "markdown",
   "id": "070a13da-3817-4196-a988-16d4a0f649f0",
   "metadata": {},
   "source": [
    "__Objectives:__ \n",
    "* Popular languages used in Data science \n",
    "* Commonly used Tools in Data science \n",
    "* Version control mechanisms for Code"
   ]
  },
  {
   "cell_type": "markdown",
   "id": "c256ba28-11ce-4ff5-8fe2-95042a0ce6e1",
   "metadata": {},
   "source": [
    "# h2 Author\n",
    "Veena Prabhakar"
   ]
  },
  {
   "cell_type": "code",
   "execution_count": null,
   "id": "eee51449-c997-446a-8d29-971238bf6842",
   "metadata": {},
   "outputs": [],
   "source": []
  }
 ],
 "metadata": {
  "kernelspec": {
   "display_name": "Python",
   "language": "python",
   "name": "conda-env-python-py"
  },
  "language_info": {
   "codemirror_mode": {
    "name": "ipython",
    "version": 3
   },
   "file_extension": ".py",
   "mimetype": "text/x-python",
   "name": "python",
   "nbconvert_exporter": "python",
   "pygments_lexer": "ipython3",
   "version": "3.7.12"
  }
 },
 "nbformat": 4,
 "nbformat_minor": 5
}
